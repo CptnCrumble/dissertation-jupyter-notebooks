{
 "cells": [
  {
   "cell_type": "code",
   "execution_count": 1,
   "id": "solar-management",
   "metadata": {},
   "outputs": [],
   "source": [
    "from commonCode.normaliser import *\n",
    "from commonCode.crossvalidation import *\n",
    "from sklearn.cluster import KMeans\n",
    "import numpy as np\n",
    "import json\n",
    "\n",
    "\n",
    "with open('./data/summary-stats-data.json') as f:\n",
    "  raw_data = json.load(f)\n",
    "\n",
    "data = raw_data[\"data\"]"
   ]
  },
  {
   "cell_type": "code",
   "execution_count": 2,
   "id": "powered-diesel",
   "metadata": {},
   "outputs": [],
   "source": [
    "hmm = normalise_data_set(data)"
   ]
  },
  {
   "cell_type": "code",
   "execution_count": 3,
   "id": "1420d52d",
   "metadata": {},
   "outputs": [
    {
     "name": "stdout",
     "output_type": "stream",
     "text": [
      "0.19047619047619047\n"
     ]
    }
   ],
   "source": [
    "print(hmm[0]['Depression'])"
   ]
  },
  {
   "cell_type": "code",
   "execution_count": 4,
   "id": "bf07549d",
   "metadata": {},
   "outputs": [
    {
     "name": "stdout",
     "output_type": "stream",
     "text": [
      "{'Number': 1, 'Timepoint': 1, 'Anxiety': 0.19047619047619047, 'Depression': 0.19047619047619047, 'PDSS-TOTAL': 0.18333333333333332, 'NMS-TOTAL': 0.0967741935483871, 'UPDRS-TOTAL': 0.09, 'PDQ8-TOTAL': 0.0625, 'PDQ8-PDQSI': 0.0625, 'PDQ39-PDQSI': 0.16354166666666667, 'PDQ39-Mob': 0.225, 'PDQ39-ADL': 0.20833333333333337, 'PDQ39-Emot': 0.08333333333333334, 'PDQ39-Stigma': 0.125, 'PDQ39-Soc-Sup': 0.08333333333333334, 'PDQ39-Cog': 0.25, 'PDQ39-Comm': 0.0, 'PDQ39-Discom': 0.33333333333333337, 'BKS': 0.4083333333333334, 'DKS': 0.6408450704225352, 'FDS': 0.5944444444444444, 'PTI': 0.14511873350923482, 'PTT': 0.04940711462450593, 'PDQC-PDQSI': 0.2729166666666667}\n"
     ]
    }
   ],
   "source": [
    "print(hmm[0])"
   ]
  },
  {
   "cell_type": "code",
   "execution_count": 8,
   "id": "250c5970",
   "metadata": {},
   "outputs": [
    {
     "name": "stdout",
     "output_type": "stream",
     "text": [
      "[{'Number': 1, 'Timepoint': 1}, {'Number': 2, 'Timepoint': 1}, {'Number': 4, 'Timepoint': 1}, {'Number': 5, 'Timepoint': 1}, {'Number': 6, 'Timepoint': 0}, {'Number': 6, 'Timepoint': 1}, {'Number': 9, 'Timepoint': 0}, {'Number': 9, 'Timepoint': 1}, {'Number': 10, 'Timepoint': 1}, {'Number': 11, 'Timepoint': 0}, {'Number': 11, 'Timepoint': 1}, {'Number': 12, 'Timepoint': 0}, {'Number': 12, 'Timepoint': 1}, {'Number': 13, 'Timepoint': 0}, {'Number': 13, 'Timepoint': 1}, {'Number': 14, 'Timepoint': 0}, {'Number': 14, 'Timepoint': 1}, {'Number': 15, 'Timepoint': 0}, {'Number': 15, 'Timepoint': 1}, {'Number': 16, 'Timepoint': 0}, {'Number': 16, 'Timepoint': 1}, {'Number': 17, 'Timepoint': 0}, {'Number': 17, 'Timepoint': 1}, {'Number': 18, 'Timepoint': 0}, {'Number': 18, 'Timepoint': 1}, {'Number': 19, 'Timepoint': 0}, {'Number': 19, 'Timepoint': 1}, {'Number': 21, 'Timepoint': 0}, {'Number': 21, 'Timepoint': 1}, {'Number': 22, 'Timepoint': 0}, {'Number': 26, 'Timepoint': 0}, {'Number': 30, 'Timepoint': 0}, {'Number': 30, 'Timepoint': 1}, {'Number': 31, 'Timepoint': 0}, {'Number': 32, 'Timepoint': 0}, {'Number': 32, 'Timepoint': 1}, {'Number': 34, 'Timepoint': 0}, {'Number': 34, 'Timepoint': 1}, {'Number': 36, 'Timepoint': 0}, {'Number': 37, 'Timepoint': 0}, {'Number': 38, 'Timepoint': 0}, {'Number': 39, 'Timepoint': 0}, {'Number': 41, 'Timepoint': 0}, {'Number': 41, 'Timepoint': 1}, {'Number': 42, 'Timepoint': 0}, {'Number': 43, 'Timepoint': 0}, {'Number': 44, 'Timepoint': 0}, {'Number': 46, 'Timepoint': 0}, {'Number': 48, 'Timepoint': 0}, {'Number': 50, 'Timepoint': 0}, {'Number': 51, 'Timepoint': 0}, {'Number': 52, 'Timepoint': 0}, {'Number': 53, 'Timepoint': 0}, {'Number': 56, 'Timepoint': 0}, {'Number': 58, 'Timepoint': 0}, {'Number': 59, 'Timepoint': 0}, {'Number': 60, 'Timepoint': 0}, {'Number': 61, 'Timepoint': 0}, {'Number': 62, 'Timepoint': 0}, {'Number': 63, 'Timepoint': 0}, {'Number': 64, 'Timepoint': 0}, {'Number': 65, 'Timepoint': 0}, {'Number': 66, 'Timepoint': 0}, {'Number': 67, 'Timepoint': 0}, {'Number': 68, 'Timepoint': 0}, {'Number': 69, 'Timepoint': 0}, {'Number': 70, 'Timepoint': 0}, {'Number': 71, 'Timepoint': 0}, {'Number': 72, 'Timepoint': 0}, {'Number': 75, 'Timepoint': 0}, {'Number': 76, 'Timepoint': 0}, {'Number': 77, 'Timepoint': 0}, {'Number': 78, 'Timepoint': 0}, {'Number': 80, 'Timepoint': 0}, {'Number': 83, 'Timepoint': 0}, {'Number': 84, 'Timepoint': 0}]\n",
      "-1\n"
     ]
    }
   ],
   "source": [
    "print(get_primary_keys(hmm))\n",
    "pk = {'Number': 6, 'Timepoint': 0}\n",
    "testTest = get_test_data(hmm,pk)\n",
    "testTrain = get_train_data(hmm,pk)\n",
    "print(len(testTrain) - len(hmm))\n"
   ]
  },
  {
   "cell_type": "code",
   "execution_count": 7,
   "id": "29a218a9",
   "metadata": {},
   "outputs": [
    {
     "name": "stdout",
     "output_type": "stream",
     "text": [
      "{'Anxiety': 0.19047619047619047, 'Depression': 0.19047619047619047, 'PDSS-TOTAL': 0.18333333333333332, 'NMS-TOTAL': 0.0967741935483871, 'UPDRS-TOTAL': 0.09, 'PDQ8-TOTAL': 0.0625, 'PDQ8-PDQSI': 0.0625, 'PDQ39-PDQSI': 0.16354166666666667, 'PDQ39-Mob': 0.225, 'PDQ39-ADL': 0.20833333333333337, 'PDQ39-Emot': 0.08333333333333334, 'PDQ39-Stigma': 0.125, 'PDQ39-Soc-Sup': 0.08333333333333334, 'PDQ39-Cog': 0.25, 'PDQ39-Comm': 0.0, 'PDQ39-Discom': 0.33333333333333337, 'BKS': 0.4083333333333334, 'DKS': 0.6408450704225352, 'FDS': 0.5944444444444444, 'PTI': 0.14511873350923482, 'PTT': 0.04940711462450593, 'PDQC-PDQSI': 0.2729166666666667}\n"
     ]
    }
   ],
   "source": [
    "print(testTrain[0])"
   ]
  },
  {
   "cell_type": "code",
   "execution_count": null,
   "id": "90e7ac6f",
   "metadata": {},
   "outputs": [],
   "source": []
  }
 ],
 "metadata": {
  "kernelspec": {
   "display_name": "Python 3 (ipykernel)",
   "language": "python",
   "name": "python3"
  },
  "language_info": {
   "codemirror_mode": {
    "name": "ipython",
    "version": 3
   },
   "file_extension": ".py",
   "mimetype": "text/x-python",
   "name": "python",
   "nbconvert_exporter": "python",
   "pygments_lexer": "ipython3",
   "version": "3.9.7"
  }
 },
 "nbformat": 4,
 "nbformat_minor": 5
}
