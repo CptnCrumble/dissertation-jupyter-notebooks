{
 "cells": [
  {
   "cell_type": "code",
   "execution_count": 27,
   "id": "solar-management",
   "metadata": {},
   "outputs": [],
   "source": [
    "from commonCode.normaliser import *\n",
    "from sklearn.cluster import KMeans\n",
    "import numpy as np\n",
    "import json\n",
    "\n",
    "\n",
    "with open('./data/summary-stats-data.json') as f:\n",
    "  raw_data = json.load(f)\n",
    "\n",
    "data = raw_data[\"data\"]"
   ]
  },
  {
   "cell_type": "code",
   "execution_count": 25,
   "id": "powered-diesel",
   "metadata": {},
   "outputs": [],
   "source": [
    "hmm = normalise_data_set(data)"
   ]
  },
  {
   "cell_type": "code",
   "execution_count": 28,
   "id": "1420d52d",
   "metadata": {},
   "outputs": [
    {
     "name": "stdout",
     "output_type": "stream",
     "text": [
      "0.19047619047619047\n"
     ]
    }
   ],
   "source": [
    "print(hmm[0]['Depression'])"
   ]
  },
  {
   "cell_type": "code",
   "execution_count": 29,
   "id": "970a5d60",
   "metadata": {},
   "outputs": [
    {
     "name": "stdout",
     "output_type": "stream",
     "text": [
      "{'Number': 1, 'Timepoint': 1, 'Anxiety': 0.19047619047619047, 'Depression': 0.19047619047619047, 'PDSS-TOTAL': 0.18333333333333332, 'NMS-TOTAL': 0.0967741935483871, 'UPDRS-TOTAL': 0.09, 'PDQ8-TOTAL': 0.0625, 'PDQ8-PDQSI': 0.0625, 'PDQ39-PDQSI': 0.16354166666666667, 'PDQ39-Mob': 0.225, 'PDQ39-ADL': 0.20833333333333337, 'PDQ39-Emot': 0.08333333333333334, 'PDQ39-Stigma': 0.125, 'PDQ39-Soc-Sup': 0.08333333333333334, 'PDQ39-Cog': 0.25, 'PDQ39-Comm': 0.0, 'PDQ39-Discom': 0.33333333333333337, 'BKS': 0.4083333333333334, 'DKS': 0.6408450704225352, 'FDS': 0.5944444444444444, 'PTI': 0.14511873350923482, 'PTT': 0.04940711462450593, 'PDQC-PDQSI': 0.2729166666666667}\n"
     ]
    }
   ],
   "source": [
    "print(hmm[0])"
   ]
  }
 ],
 "metadata": {
  "kernelspec": {
   "display_name": "Python 3 (ipykernel)",
   "language": "python",
   "name": "python3"
  },
  "language_info": {
   "codemirror_mode": {
    "name": "ipython",
    "version": 3
   },
   "file_extension": ".py",
   "mimetype": "text/x-python",
   "name": "python",
   "nbconvert_exporter": "python",
   "pygments_lexer": "ipython3",
   "version": "3.9.7"
  }
 },
 "nbformat": 4,
 "nbformat_minor": 5
}
