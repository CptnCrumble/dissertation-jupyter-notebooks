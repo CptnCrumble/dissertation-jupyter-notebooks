{
 "cells": [
  {
   "cell_type": "code",
   "execution_count": 4,
   "id": "857c2bc4",
   "metadata": {},
   "outputs": [],
   "source": [
    "from commonCode.normaliser import *\n",
    "from commonCode.extractor import *\n",
    "from sklearn.cluster import KMeans\n",
    "import numpy as np\n",
    "import json\n",
    "\n",
    "\n",
    "with open('./data/summary-stats-data.json') as f:\n",
    "  raw_data = json.load(f)\n",
    "\n",
    "data = raw_data[\"data\"]\n",
    "normalised_data = normalise_data_set(data)"
   ]
  },
  {
   "cell_type": "code",
   "execution_count": 9,
   "id": "682e452d",
   "metadata": {},
   "outputs": [],
   "source": [
    "# No train-test needed...\n",
    "# Cluster PDQ39-SI & PDQC-SI\n",
    "data_set1 = np.array(extract_for_clustering(normalised_data,['PDQ39-PDQSI','PDQC-PDQSI']))\n",
    "kmeans = KMeans(n_clusters=2, random_state=0).fit(data_set1)"
   ]
  }
 ],
 "metadata": {
  "kernelspec": {
   "display_name": "Python 3 (ipykernel)",
   "language": "python",
   "name": "python3"
  },
  "language_info": {
   "codemirror_mode": {
    "name": "ipython",
    "version": 3
   },
   "file_extension": ".py",
   "mimetype": "text/x-python",
   "name": "python",
   "nbconvert_exporter": "python",
   "pygments_lexer": "ipython3",
   "version": "3.9.7"
  }
 },
 "nbformat": 4,
 "nbformat_minor": 5
}
