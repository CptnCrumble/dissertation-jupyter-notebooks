{
 "cells": [
  {
   "cell_type": "code",
   "execution_count": 19,
   "id": "93509279",
   "metadata": {},
   "outputs": [],
   "source": [
    "from commonCode.normaliser import *\n",
    "from commonCode.extractor import *\n",
    "from commonCode.crossvalidation import *\n",
    "from sklearn.neighbors import KNeighborsRegressor\n",
    "import numpy as np\n",
    "import json\n",
    "import copy\n",
    "\n",
    "\n",
    "with open('./data/summary-stats-data.json') as f:\n",
    "  raw_data = json.load(f)\n",
    "\n",
    "subject = raw_data[\"data_spec\"][\"subject\"]\n",
    "data = raw_data[\"data\"]\n",
    "normalised_data = normalise_data_set(data)\n",
    "\n",
    "test_primary_key = {'Number': 9, 'Timepoint':0}\n",
    "test_as_dict = get_test_data(normalised_data,test_primary_key)\n",
    "\n",
    "train_as_dict = get_train_data(normalised_data,test_primary_key)\n"
   ]
  },
  {
   "cell_type": "code",
   "execution_count": 30,
   "id": "0dc17ff9",
   "metadata": {},
   "outputs": [
    {
     "name": "stdout",
     "output_type": "stream",
     "text": [
      "2\n",
      "(75, 21)\n",
      "1575\n",
      "1\n",
      "(75,)\n",
      "75\n"
     ]
    },
    {
     "data": {
      "text/plain": [
       "KNeighborsRegressor()"
      ]
     },
     "execution_count": 30,
     "metadata": {},
     "output_type": "execute_result"
    }
   ],
   "source": [
    "# Build model\n",
    "\n",
    "Y = np.array(get_subject_values(train_as_dict,subject))\n",
    "\n",
    "np_arrays = [np.array(list(x.values())) for x in strip_subject_values(train_as_dict,subject)]\n",
    "X = np_arrays[0]\n",
    "for i in range(1,len(np_arrays)):\n",
    "    X = np.vstack([X,np_arrays[i]])\n",
    "    \n",
    "print(X.ndim)\n",
    "print(X.shape)\n",
    "print(X.size)\n",
    "print(Y.ndim)\n",
    "print(Y.shape)\n",
    "print(Y.size)\n",
    "    \n",
    "model = KNeighborsRegressor(n_neighbors=5)\n",
    "model.fit(X,Y)"
   ]
  },
  {
   "cell_type": "code",
   "execution_count": 31,
   "id": "b0b2d8d5",
   "metadata": {},
   "outputs": [
    {
     "name": "stdout",
     "output_type": "stream",
     "text": [
      "[0.04761905 0.19047619 0.18333333 0.16129032 0.13       0.03125\n",
      " 0.03125    0.09479167 0.05       0.16666667 0.         0.\n",
      " 0.         0.375      0.08333333 0.08333333 0.74791667 0.06338028\n",
      " 0.49444444 0.32189974 0.54743083]\n",
      "1\n",
      "(21,)\n",
      "21\n",
      "[0.09416667]\n",
      "0.08333333333333334\n"
     ]
    }
   ],
   "source": [
    "# Test model\n",
    "bum = copy.deepcopy(test_as_dict)\n",
    "bum.pop(subject)\n",
    "test = np.array(list(bum.values()))\n",
    "print(test)\n",
    "print(test.ndim)\n",
    "print(test.shape)\n",
    "print(test.size)\n",
    "\n",
    "print(model.predict([test]))\n",
    "print(test_as_dict[subject])"
   ]
  }
 ],
 "metadata": {
  "kernelspec": {
   "display_name": "Python 3 (ipykernel)",
   "language": "python",
   "name": "python3"
  },
  "language_info": {
   "codemirror_mode": {
    "name": "ipython",
    "version": 3
   },
   "file_extension": ".py",
   "mimetype": "text/x-python",
   "name": "python",
   "nbconvert_exporter": "python",
   "pygments_lexer": "ipython3",
   "version": "3.9.7"
  }
 },
 "nbformat": 4,
 "nbformat_minor": 5
}
