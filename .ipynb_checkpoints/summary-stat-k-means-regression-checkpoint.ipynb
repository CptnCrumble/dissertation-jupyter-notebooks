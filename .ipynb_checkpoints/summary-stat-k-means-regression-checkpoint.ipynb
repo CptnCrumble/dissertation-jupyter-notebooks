{
 "cells": [
  {
   "cell_type": "code",
   "execution_count": 1,
   "id": "93509279",
   "metadata": {},
   "outputs": [
    {
     "name": "stdout",
     "output_type": "stream",
     "text": [
      "PDQC-PDQSI\n"
     ]
    }
   ],
   "source": [
    "from commonCode.normaliser import *\n",
    "from commonCode.crossvalidation import *\n",
    "from sklearn.neighbors import KNeighborsRegressor\n",
    "import numpy as np\n",
    "import json\n",
    "import copy\n",
    "\n",
    "\n",
    "with open('./data/summary-stats-data.json') as f:\n",
    "  raw_data = json.load(f)\n",
    "\n",
    "subject = raw_data[\"data_spec\"][\"subject\"]\n",
    "data = raw_data[\"data\"]\n",
    "\n",
    "normalised_data = normalise_data_set(data)\n",
    "\n",
    "print(subject)\n"
   ]
  },
  {
   "cell_type": "code",
   "execution_count": 2,
   "id": "941c901a",
   "metadata": {},
   "outputs": [],
   "source": [
    "# --- Seperate test & training data ---\n",
    "\n",
    "test_primary_key = {'Number': 9, 'Timepoint':0}\n",
    "test_as_dict = get_test_data(normalised_data,test_primary_key)\n",
    "train_as_dict = get_train_data(normalised_data,test_primary_key)"
   ]
  },
  {
   "cell_type": "code",
   "execution_count": 6,
   "id": "0dc17ff9",
   "metadata": {},
   "outputs": [
    {
     "data": {
      "text/plain": [
       "KNeighborsRegressor(n_neighbors=6)"
      ]
     },
     "execution_count": 6,
     "metadata": {},
     "output_type": "execute_result"
    }
   ],
   "source": [
    "# --- Build model ---\n",
    "\n",
    "X,Y = create_model_data(train_as_dict,subject,np.array,np.vstack)\n",
    "    \n",
    "model = KNeighborsRegressor(n_neighbors=6)\n",
    "model.fit(X,Y)"
   ]
  },
  {
   "cell_type": "code",
   "execution_count": 5,
   "id": "c6e7d305",
   "metadata": {},
   "outputs": [
    {
     "name": "stdout",
     "output_type": "stream",
     "text": [
      "[0.08368056]\n",
      "0.08333333333333334\n"
     ]
    }
   ],
   "source": [
    "# --- Test model ---\n",
    "\n",
    "tmp = copy.deepcopy(test_as_dict)\n",
    "tmp.pop(subject)\n",
    "test = np.array(list(tmp.values()))\n",
    "\n",
    "print(model.predict([test]))\n",
    "print(test_as_dict[subject])"
   ]
  }
 ],
 "metadata": {
  "kernelspec": {
   "display_name": "Python 3 (ipykernel)",
   "language": "python",
   "name": "python3"
  },
  "language_info": {
   "codemirror_mode": {
    "name": "ipython",
    "version": 3
   },
   "file_extension": ".py",
   "mimetype": "text/x-python",
   "name": "python",
   "nbconvert_exporter": "python",
   "pygments_lexer": "ipython3",
   "version": "3.9.7"
  }
 },
 "nbformat": 4,
 "nbformat_minor": 5
}
