{
 "cells": [
  {
   "cell_type": "code",
   "execution_count": 24,
   "id": "solar-management",
   "metadata": {},
   "outputs": [],
   "source": [
    "from commonCode.normaliser import *\n",
    "import json\n",
    "\n",
    "\n",
    "with open('./data/summary-stats-data.json') as f:\n",
    "  raw_data = json.load(f)\n",
    "\n",
    "data = raw_data[\"data\"]"
   ]
  },
  {
   "cell_type": "code",
   "execution_count": 25,
   "id": "powered-diesel",
   "metadata": {},
   "outputs": [],
   "source": [
    "hmm = normalise_data_set(data)"
   ]
  },
  {
   "cell_type": "code",
   "execution_count": null,
   "id": "1420d52d",
   "metadata": {},
   "outputs": [],
   "source": []
  }
 ],
 "metadata": {
  "kernelspec": {
   "display_name": "Python 3 (ipykernel)",
   "language": "python",
   "name": "python3"
  },
  "language_info": {
   "codemirror_mode": {
    "name": "ipython",
    "version": 3
   },
   "file_extension": ".py",
   "mimetype": "text/x-python",
   "name": "python",
   "nbconvert_exporter": "python",
   "pygments_lexer": "ipython3",
   "version": "3.9.7"
  }
 },
 "nbformat": 4,
 "nbformat_minor": 5
}
